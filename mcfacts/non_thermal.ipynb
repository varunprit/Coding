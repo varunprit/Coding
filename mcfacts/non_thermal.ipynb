{
 "cells": [
  {
   "cell_type": "code",
   "execution_count": null,
   "id": "528f5f4a",
   "metadata": {},
   "outputs": [
    {
     "name": "stdout",
     "output_type": "stream",
     "text": [
      "2.1641380468713992e-19 0.02894579515842816\n",
      "xi = 1\n",
      "a_gamma_sf = 0.02894579515842816\n",
      "e_b = 0.1\n",
      "dens = 1e-15\n",
      "b_sf = 0.5\n"
     ]
    }
   ],
   "source": [
    "import numpy as np\n",
    "import pandas as pd\n",
    "import astropy.constants as const\n",
    "import matplotlib.pyplot as plt\n",
    "import matplotlib.ticker as ticker\n",
    "\n",
    "# Parameters that you can change for new model\n",
    "c = const.c.cgs.value #speed of light in cm/s\n",
    "c_factor = 0.71 #factor to change the speed of light for the velocity of forward shock (needs to be above 0.7 for a_gamma_sf to be positive)\n",
    "v_fs = c_factor * c #velocity of forward shock in cm/s\n",
    "dens = 1e-15 #density of agn disk\n",
    "\n",
    "b_fs = v_fs / c\n",
    "b_sf = 0.5 #seen on page 5\n",
    "e_e = 0.3 #page 8 top right\n",
    "e_b = 0.1 #page 8 top right \n",
    "xi = 1 # USED TO GET GAMMA MAX NOT SURE WHERE FROM\n",
    "p = 2.5 #foud on page 8 top right\n",
    "gamma_fs = 1 / np.sqrt(1 - b_fs**2)\n",
    "gamma_fs_f = gamma_fs**(1 + np.sqrt(3))\n",
    "gamma_sf = gamma_fs / np.sqrt(2)\n",
    "gamma_sf_f = gamma_sf**(1 + np.sqrt(3))\n",
    "a_gamma_sf = (gamma_sf -1)*(4*gamma_sf+3) #left of eq 24\n",
    "gamma_m = 40 * (e_e/0.3)*(gamma_sf-1/0.2) #used in eq 25 from eq 16\n",
    "gamma_max = 1e6 * xi**(-0.5) * (b_sf/0.5)*((a_gamma_sf/1.5)**(-0.25))*((e_b/0.1)**(-0.25))*((dens/1e-16)**(-0.25)) #used in eq 26 from eq 17\n",
    "gamma_a = 60 #used in eq 27 has a messy equation at (21) pls say we dont need it\n",
    "n = dens / const.m_p\n",
    "\n",
    "def lum_sh(): #will get from emily\n",
    "    if b_fs * gamma_fs <=1:\n",
    "        lum_sh = 42\n",
    "    else: #b_fs * gamma_fs > 1\n",
    "        lum_sh = 44\n",
    "    return lum_sh\n",
    "\n",
    "def lum_syn(): #eq 15\n",
    "    Yssc = (e_e / e_b)**(1/3) #page 8 top left\n",
    "    Y2ndIC = (e_e / e_b)**(2/3) #page 8 top left\n",
    "    f_dilution = 1 #page 6 bottom left\n",
    "    if b_fs * gamma_fs <= 1:\n",
    "        f_beaming = 1\n",
    "    else: #b_fs * gamma_fs > 1\n",
    "        f_beaming = 2 * (gamma_sf_f**2)\n",
    "    lum_syn = e_e * f_dilution * f_beaming * (lum_sh() / (1 + Yssc + Y2ndIC))\n",
    "    return lum_syn\n",
    "\n",
    "freq = (1e17) #frequency range to test in Hz\n",
    "\n",
    "def lum_tot(freq):\n",
    "    B_sf = 6e2*((a_gamma_sf/1.5)**0.5) * ((e_b/0.1)**0.5) * (dens/1e-16) #left of eq 24 (NOT NUMBERERED)\n",
    "    freq_sync = 2e9 * (gamma_sf/1.2) * (B_sf/600) #eq 24\n",
    "    freq_m = 3e12*((gamma_m/40)**2)*(freq_sync/2e9) #eq 25\n",
    "    freq_max = 2e21*((gamma_max/1e6)**2)*(freq_sync/2e9) #eq 26 (need to ask if i use the first or second equation)\n",
    "    freq_a = 7e12 * ((gamma_a/60)**2) * (freq_sync/2e9) #eq 27\n",
    "    freq_combo = 0\n",
    "    \n",
    "    if freq_a < freq_m: #eq 28\n",
    "        if freq_m < freq < freq_max:\n",
    "            freq_combo = (freq/freq_m)**(-(p-1)/2)\n",
    "        elif freq_a < freq < freq_m:\n",
    "            freq_combo = (freq/freq_m)**(0.5)\n",
    "        elif freq_sync < freq < freq_a:\n",
    "            freq_combo = ((freq/freq_a)**(3))*((freq_a/freq_m)**(0.5))\n",
    "        else:\n",
    "            freq_combo = 0.1\n",
    "    if freq_m < freq_a: #eq 29\n",
    "        if freq_a < freq < freq_max:\n",
    "            freq_combo = (freq/freq_a)**(-(p-1)/2) + np.exp(1-(freq/freq_a)**(0.5))\n",
    "        elif freq < freq_a:\n",
    "            freq_combo = (freq/freq_a)**3\n",
    "        else:\n",
    "            freq_combo = 0\n",
    "\n",
    "    lum_tot = (lum_syn() * freq_combo)/freq\n",
    "    return lum_tot\n",
    "\n",
    "test = lum_tot(freq)\n",
    "\n",
    "print(test, a_gamma_sf)\n",
    "print(\"xi =\", xi)\n",
    "print(\"a_gamma_sf =\", a_gamma_sf)\n",
    "print(\"e_b =\", e_b)\n",
    "print(\"dens =\", dens)\n",
    "print(\"b_sf =\", b_sf)"
   ]
  },
  {
   "cell_type": "code",
   "execution_count": null,
   "id": "fa576a1f",
   "metadata": {},
   "outputs": [
    {
     "name": "stdout",
     "output_type": "stream",
     "text": [
      "<function lum_tot at 0x307630680> nan nan nan\n",
      "xi = 1\n",
      "a_gamma_sf = -1.390564368858079\n",
      "e_b = 0.1\n",
      "dens = 1e-15\n",
      "b_sf = 0.5\n"
     ]
    },
    {
     "name": "stderr",
     "output_type": "stream",
     "text": [
      "/var/folders/pw/nc5rj5md667b29kntncq7jbw0000gn/T/ipykernel_45601/4287191176.py:1: RuntimeWarning: invalid value encountered in scalar power\n",
      "  B_sf = 6e2*((a_gamma_sf/1.5)**0.5) * ((e_b/0.1)**0.5) * (dens/1e-16) #left of eq 24 (NOT NUMBERERED)\n"
     ]
    }
   ],
   "source": [
    "B_sf = 6e2*((a_gamma_sf/1.5)**0.5) * ((e_b/0.1)**0.5) * (dens/1e-16) #left of eq 24 (NOT NUMBERERED)\n",
    "freq_sync = 2e9 * (gamma_sf/1.2) * (B_sf/600) #eq 24\n",
    "freq_m = 3e12*((gamma_m/40)**2)*(freq_sync/2e9) #eq 25\n",
    "freq_max = 2e21*((gamma_max/1e6)**2)*(freq_sync/2e9) #eq 26 (need to ask if i use the first or second equation)\n",
    "freq_a = 7e12 * ((gamma_a/60)**2) * (freq_sync/2e9) #eq 27\n",
    "freq_combo = 0\n",
    "    \n",
    "if freq_a < freq_m: #eq 28\n",
    "    if freq_m < freq < freq_max:\n",
    "        freq_combo = (freq/freq_m)**(-(p-1)/2)\n",
    "    elif freq_a < freq < freq_m:\n",
    "        freq_combo = (freq/freq_m)**(0.5)\n",
    "    elif freq_sync < freq < freq_a:\n",
    "        freq_combo = ((freq/freq_a)**(3))*((freq_a/freq_m)**(0.5))\n",
    "    else:\n",
    "        freq_combo = 0.1\n",
    "if freq_m < freq_a: #eq 29\n",
    "    if freq_a < freq < freq_max:\n",
    "        freq_combo = (freq/freq_a)**(-(p-1)/2) + np.exp(1-(freq/freq_a)**(0.5))\n",
    "    elif freq < freq_a:\n",
    "        req_combo = (freq/freq_a)**3\n",
    "    else:\n",
    "        freq_combo = 0\n",
    "\n",
    "    lum_tot = (lum_syn() * freq_combo)/freq\n",
    "\n",
    "print(lum_tot, freq_a, freq_m, freq_max)\n",
    ")"
   ]
  }
 ],
 "metadata": {
  "kernelspec": {
   "display_name": "base",
   "language": "python",
   "name": "python3"
  },
  "language_info": {
   "codemirror_mode": {
    "name": "ipython",
    "version": 3
   },
   "file_extension": ".py",
   "mimetype": "text/x-python",
   "name": "python",
   "nbconvert_exporter": "python",
   "pygments_lexer": "ipython3",
   "version": "3.13.5"
  }
 },
 "nbformat": 4,
 "nbformat_minor": 5
}
