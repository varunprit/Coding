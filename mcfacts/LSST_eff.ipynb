{
 "cells": [
  {
   "cell_type": "code",
   "execution_count": 2,
   "id": "b467a09b",
   "metadata": {},
   "outputs": [],
   "source": [
    "import numpy as np\n",
    "import pandas as pd\n",
    "from astropy.io import fits\n",
    "import matplotlib.pyplot as plt"
   ]
  },
  {
   "cell_type": "code",
   "execution_count": 8,
   "id": "1863282a",
   "metadata": {},
   "outputs": [
    {
     "name": "stdout",
     "output_type": "stream",
     "text": [
      "0       5.371000e-07\n",
      "1       5.372000e-07\n",
      "2       5.373000e-07\n",
      "3       5.374000e-07\n",
      "4       5.375000e-07\n",
      "            ...     \n",
      "1684    7.055000e-07\n",
      "1685    7.056000e-07\n",
      "1686    7.057000e-07\n",
      "1687    7.058000e-07\n",
      "1688    7.059000e-07\n",
      "Name: 5370, Length: 1689, dtype: float64\n"
     ]
    },
    {
     "name": "stderr",
     "output_type": "stream",
     "text": [
      "/var/folders/pw/nc5rj5md667b29kntncq7jbw0000gn/T/ipykernel_25795/1081145898.py:1: FutureWarning: The 'delim_whitespace' keyword in pd.read_csv is deprecated and will be removed in a future version. Use ``sep='\\s+'`` instead\n",
      "  r = pd.read_csv('../data/filters/LSST_r.dat', delim_whitespace=True)\n",
      "/var/folders/pw/nc5rj5md667b29kntncq7jbw0000gn/T/ipykernel_25795/1081145898.py:3: FutureWarning: The 'delim_whitespace' keyword in pd.read_csv is deprecated and will be removed in a future version. Use ``sep='\\s+'`` instead\n",
      "  g = pd.read_csv('../data/filters//LSST_g.dat', delim_whitespace=True)\n",
      "/var/folders/pw/nc5rj5md667b29kntncq7jbw0000gn/T/ipykernel_25795/1081145898.py:5: FutureWarning: The 'delim_whitespace' keyword in pd.read_csv is deprecated and will be removed in a future version. Use ``sep='\\s+'`` instead\n",
      "  i = pd.read_csv('../data/filters//LSST_i.dat', delim_whitespace=True)\n",
      "/var/folders/pw/nc5rj5md667b29kntncq7jbw0000gn/T/ipykernel_25795/1081145898.py:7: FutureWarning: The 'delim_whitespace' keyword in pd.read_csv is deprecated and will be removed in a future version. Use ``sep='\\s+'`` instead\n",
      "  u = pd.read_csv('../data/filters//LSST_u.dat', delim_whitespace=True)\n",
      "/var/folders/pw/nc5rj5md667b29kntncq7jbw0000gn/T/ipykernel_25795/1081145898.py:9: FutureWarning: The 'delim_whitespace' keyword in pd.read_csv is deprecated and will be removed in a future version. Use ``sep='\\s+'`` instead\n",
      "  y = pd.read_csv('../data/filters//LSST_y.dat', delim_whitespace=True)\n",
      "/var/folders/pw/nc5rj5md667b29kntncq7jbw0000gn/T/ipykernel_25795/1081145898.py:11: FutureWarning: The 'delim_whitespace' keyword in pd.read_csv is deprecated and will be removed in a future version. Use ``sep='\\s+'`` instead\n",
      "  z = pd.read_csv('../data/filters//LSST_z.dat', delim_whitespace=True)\n"
     ]
    }
   ],
   "source": [
    "r = pd.read_csv('../data/filters/LSST_r.dat', delim_whitespace=True)\n",
    "#red filter from 5371-7059\n",
    "g = pd.read_csv('../data/filters//LSST_g.dat', delim_whitespace=True)\n",
    "# green filter from 3865-5669\n",
    "i = pd.read_csv('../data/filters//LSST_i.dat', delim_whitespace=True)\n",
    "# infrared filter from 6761-8329\n",
    "u = pd.read_csv('../data/filters//LSST_u.dat', delim_whitespace=True)\n",
    "# ultraviolet filter from 3201-4085\n",
    "y = pd.read_csv('../data/filters//LSST_y.dat', delim_whitespace=True)\n",
    "# y filter from 9085-10989\n",
    "z = pd.read_csv('../data/filters//LSST_z.dat', delim_whitespace=True)\n",
    "# z filter from 8031-9385\n",
    "r_eff = r.iloc[:, 1]  # 0 for wavelength 1 for transmission\n",
    "g_eff = g.iloc[:, 1]\n",
    "i_eff = i.iloc[:, 1]  \n",
    "u_eff = u.iloc[:, 1]\n",
    "y_eff = y.iloc[:, 1]\n",
    "z_eff = z.iloc[:, 1]\n",
    "\n",
    "\n",
    "r_filter = r.iloc[:, 0]  # 0 for wavelength 1 for transmission\n",
    "g_filter = g.iloc[:, 0]\n",
    "i_filter = i.iloc[:, 0]  \n",
    "u_filter = u.iloc[:, 0]\n",
    "y_filter = y.iloc[:, 0]\n",
    "z_filter = z.iloc[:, 0]\n",
    "\n",
    "r_wave = r_filter * 1e-10 # I think its in angstroms  \n",
    "g_wave = g_filter * 1e-10\n",
    "i_wave = i_filter * 1e-10\n",
    "u_wave = u_filter * 1e-10\n",
    "y_wave = y_filter * 1e-10\n",
    "z_wave = z_filter * 1e-10\n",
    "\n",
    "print(r_wave)"
   ]
  },
  {
   "cell_type": "code",
   "execution_count": null,
   "id": "91597b9b",
   "metadata": {},
   "outputs": [
    {
     "name": "stdout",
     "output_type": "stream",
     "text": [
      "0       2.644770e+13\n",
      "1       2.644607e+13\n",
      "2       2.644444e+13\n",
      "3       2.644280e+13\n",
      "4       2.644116e+13\n",
      "            ...     \n",
      "1684    2.081024e+13\n",
      "1685    2.080620e+13\n",
      "1686    2.080215e+13\n",
      "1687    2.079810e+13\n",
      "1688    2.079405e+13\n",
      "Name: 5370, Length: 1689, dtype: float64\n"
     ]
    }
   ],
   "source": [
    "t = 5800 #Temp of sun\n",
    "h = 6.626e-34 #Plank constant\n",
    "c = 3e8 #speed of light\n",
    "k = 1.38e-23 #Boltzmann constant\n",
    "l_r = r_wave # wavelngth too just easier to use this in formula \n",
    "l_g = g_wave\n",
    "l_i = i_wave\n",
    "l_u = u_wave\n",
    "l_y = y_wave\n",
    "l_z = z_wave\n",
    "\n",
    "plank_r = (((2*h*(c**2))/(l_r**5)))*((1/(np.exp((h*c)/(l_r*k*t))-1))) #plank law for r just copy this for other filt\n",
    "plank_g = (((2*h*(c**2))/(l_g**5)))*((1/(np.exp((h*c)/(l_g*k*t))-1)))\n",
    "plank_i = (((2*h*(c**2))/(l_i**5)))*((1/(np.exp((h*c)/(l_i*k*t))-1)))\n",
    "plank_u = (((2*h*(c**2))/(l_u**5)))*((1/(np.exp((h*c)/(l_u*k*t))-1)))\n",
    "plank_y = (((2*h*(c**2))/(l_y**5)))*((1/(np.exp((h*c)/(l_y*k*t))-1)))\n",
    "plank_z = (((2*h*(c**2))/(l_z**5)))*((1/(np.exp((h*c)/(l_z*k*t))-1)))\n",
    "\n",
    "print(plank_r) "
   ]
  },
  {
   "cell_type": "code",
   "execution_count": null,
   "id": "4e80a0dd",
   "metadata": {},
   "outputs": [
    {
     "name": "stdout",
     "output_type": "stream",
     "text": [
      "1.478394677861521e+16 1.4827916403347366e+16 1.0684893071692444e+16 2244757063838288.8 2810554652713769.0 6578972742849477.0\n"
     ]
    }
   ],
   "source": [
    "r_trans = plank_r * r_eff #total output for given filter\n",
    "g_trans = plank_g * g_eff\n",
    "i_trans = plank_i * i_eff\n",
    "u_trans = plank_u * u_eff\n",
    "y_trans = plank_y * y_eff\n",
    "z_trans = plank_z * z_eff\n",
    "\n",
    "r_total = sum(r_trans) #combinging the 1600ish values in each filter for total output\n",
    "g_total = sum(g_trans)\n",
    "i_total = sum(i_trans)\n",
    "u_total = sum(u_trans)\n",
    "y_total = sum(y_trans)\n",
    "z_total = sum(z_trans)\n",
    "\n",
    "print(r_total, g_total, i_total, u_total, y_total, z_total)"
   ]
  }
 ],
 "metadata": {
  "kernelspec": {
   "display_name": "base",
   "language": "python",
   "name": "python3"
  },
  "language_info": {
   "codemirror_mode": {
    "name": "ipython",
    "version": 3
   },
   "file_extension": ".py",
   "mimetype": "text/x-python",
   "name": "python",
   "nbconvert_exporter": "python",
   "pygments_lexer": "ipython3",
   "version": "3.13.2"
  }
 },
 "nbformat": 4,
 "nbformat_minor": 5
}
